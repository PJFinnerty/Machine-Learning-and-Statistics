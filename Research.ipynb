{
 "cells": [
  {
   "cell_type": "markdown",
   "metadata": {},
   "source": [
    "<br>\n",
    "\n",
    "***\n",
    "\n",
    "## Glossary of Regression Terms\n",
    "\n",
    "### Coefficients <span style=\"color: blue;\">(*coef*)</span>\n",
    "\n",
    "In the regression of a dataset, the coefficients describe the statistical relationship between the independent variables and the dependent variables.\n",
    "\n",
    "The sign of the coefficent can tell you the direction of the relatioship between the variables. A positive sign identifies that as the independent variable increases, the mean of the dependent variable also increases, whilst a negative sign suggests a decrease.\n",
    "\n",
    "The value of the coefficient describes how the mean of the dependent variable changes in relation to the independent variable.\n",
    "\n",
    "Whilst carrying out regression on an indepedent variable and a dependent variable, it is important to hold the other variables 'constant'. That is to say it is imperative to study the effect of the independent variable on each dependent variable in isolation from the others (statisticsbyjim.com).\n",
    "\n",
    "The coefficients of the output are estimates of the actual data population, therefore, it is important to ensure that the model for regression follows best practice for that particular type of regression."
   ]
  },
  {
   "cell_type": "markdown",
   "metadata": {},
   "source": [
    "<br>\n",
    "\n",
    "***\n",
    "\n",
    "### Coefficient of Determination <span style=\"color: blue;\">*(R²)*</span>\n",
    "\n",
    "#### <span style=\"color: green;\">*High Percentage R² = Good fit; Low Percentage R² = Bad fit*</span>\n",
    "\n",
    "R² is the percentage of the response variable variation of a linear model. It measures how close the data are fitted by a line of regression (Frost, Statistics By Jim).\n",
    "\n",
    "R² is a valuable indicator for a Linear-regression model (including Polynomial models), however, it is important to check the test and training data of the model for signs of unwanted bias.\n"
   ]
  },
  {
   "cell_type": "markdown",
   "metadata": {},
   "source": [
    "***\n",
    "\n",
    "### Standard Error of the Coefficient  <span style=\"color: blue;\">(*SE coef.* or *Std. Err.*)</span> and t-value  <span style=\"color: blue;\">(*t*)</span>\n",
    "\n",
    "#### <span style=\"color: green;\">*Std. Err: Low Values = Good fit; High Values = Bad fit*</span>\n",
    "\n",
    "#### <span style=\"color: brown;\">*t-value: High Values = Good fit; Low Values = Bad fit*</span>\n",
    "\n",
    "The Standard Error measures the accuracy of the unknown coefficient of the model. It is a floating point number that is always positive. The smaller the Std. Err. the more accurate the estimate is (Minitab.com). \n",
    "\n",
    "Dividing the coefficient by the standard error will produce a t-value or t-statistic. As a lower Std. Err. indicates lower error and the t-value calculates how many times the error divides into the coefficent itself, a larger t-value indicates greater accuracy. \n",
    "\n",
    "As a result, the t-value is essentially a measure of the error in relation to the coefficient.\n",
    "\n",
    "***"
   ]
  },
  {
   "cell_type": "markdown",
   "metadata": {},
   "source": [
    "### P-Values  <span style=\"color: blue;\">(*p*)</span>, the Null Hypothesis <span style=\"color: blue;\">(*H0*)</span> and the Significance Level  <span style=\"color: blue;\">(*α* or *alpha level*)</span>   \n",
    "\n",
    "#### <span style=\"color: green;\">*Good Fit: when p-value* < *Significance Level*, and H0 is rejected </span>\n",
    "\n",
    "P-values work together with Coefficients to indicate the statistical value produced in the Regression process. Specifically, the P-values *of* the coefficients identify whether the relationships observed in a sample exist throughout the population (StatisticsByJim). \n",
    "\n",
    "The p-value is a number between 0 and 1.\n",
    "\n",
    "For each independent variable, there is a possibility that the variable has no correlation to the dependent variable, in which case there is not enough proof to display a relationship. This lack of a relationship is known as the Null Hypothesis and the P-values can test for this.\n",
    "\n",
    "If it is first necessary to reject the Null Hypothesis in order to determine that there is a significant enough effect between the variables in your sample in order to conclude that the same effect is present in the wider population. The significance level is the probability of dismissing the Null Hypothesis when it in fact is evident.\n",
    "\n",
    "The Significane Level, is a pre-determined threshold. It is normally set to a value of 0.05 (5%). However, the researcher must identify an appropriate threshold of Significance Level, from which to compare to the p-value. \n",
    "\n",
    "If the P-value is less than the significance level, the Null Hypothesis can be sufficiently rejected.\n",
    "\n",
    "As the coefficients, P-values and the Significance level are determined for each variable in isolation, this can determine what variables should be included in the Regression analysis. \n",
    "    \n",
    "The Significance Level for this project will be set at 5%.\n"
   ]
  },
  {
   "cell_type": "code",
   "execution_count": 1,
   "metadata": {},
   "outputs": [],
   "source": [
    "import numpy as np\n",
    "import matplotlib.pyplot as plt\n",
    "#import scikitlearn as sklearn"
   ]
  },
  {
   "cell_type": "code",
   "execution_count": 2,
   "metadata": {},
   "outputs": [],
   "source": [
    "np.random.seed(0)"
   ]
  },
  {
   "cell_type": "markdown",
   "metadata": {},
   "source": [
    "***\n",
    "<br>\n",
    "\n",
    "## Simple Linear Regression\n",
    "<br>"
   ]
  },
  {
   "cell_type": "markdown",
   "metadata": {},
   "source": [
    "### Create an array, 'a', between 0 and 100, with each point at an interval of 5 and create a second array, 'b', with each point a multiple of 'a' and some 'noise' added"
   ]
  },
  {
   "cell_type": "code",
   "execution_count": 3,
   "metadata": {},
   "outputs": [],
   "source": [
    "a = np.arange(0, 20, 1)\n",
    "b = 3 * a + np.random.normal(0.0, 2, a.size)"
   ]
  },
  {
   "cell_type": "code",
   "execution_count": 4,
   "metadata": {},
   "outputs": [
    {
     "data": {
      "text/plain": [
       "array([ 0,  1,  2,  3,  4,  5,  6,  7,  8,  9, 10, 11, 12, 13, 14, 15, 16,\n",
       "       17, 18, 19])"
      ]
     },
     "execution_count": 4,
     "metadata": {},
     "output_type": "execute_result"
    }
   ],
   "source": [
    "a"
   ]
  },
  {
   "cell_type": "code",
   "execution_count": 5,
   "metadata": {
    "scrolled": true
   },
   "outputs": [
    {
     "data": {
      "text/plain": [
       "array([ 3.52810469,  3.80031442,  7.95747597, 13.4817864 , 15.73511598,\n",
       "       13.04544424, 19.90017684, 20.69728558, 23.7935623 , 27.821197  ,\n",
       "       30.28808714, 35.90854701, 37.52207545, 39.24335003, 42.88772647,\n",
       "       45.66734865, 50.98815815, 50.58968347, 54.6261354 , 55.29180852])"
      ]
     },
     "execution_count": 5,
     "metadata": {},
     "output_type": "execute_result"
    }
   ],
   "source": [
    "b"
   ]
  },
  {
   "cell_type": "markdown",
   "metadata": {},
   "source": [
    "### Plot 'a' and 'b' together"
   ]
  },
  {
   "cell_type": "code",
   "execution_count": 11,
   "metadata": {
    "scrolled": false
   },
   "outputs": [
    {
     "data": {
      "image/png": "[encoded data removed]",
      "text/plain": [
       "<Figure size 432x288 with 1 Axes>"
      ]
     },
     "metadata": {
      "needs_background": "light"
     },
     "output_type": "display_data"
    }
   ],
   "source": [
    "plt.plot(a, b, 'k.')\n",
    "\n",
    "# Set some properties for the plot.\n",
    "plt.xlabel('Weight (KG)')\n",
    "plt.ylabel('Distance (CM)')\n",
    "\n",
    "# Show the plot.\n",
    "plt.show()"
   ]
  },
  {
   "cell_type": "markdown",
   "metadata": {},
   "source": [
    "### Plotting Lines that roughly fit the data"
   ]
  },
  {
   "cell_type": "code",
   "execution_count": 12,
   "metadata": {},
   "outputs": [
    {
     "data": {
      "image/png": "[encoded data removed]",
      "text/plain": [
       "<Figure size 432x288 with 1 Axes>"
      ]
     },
     "metadata": {
      "needs_background": "light"
     },
     "output_type": "display_data"
    }
   ],
   "source": [
    "plt.plot(a, b, 'k.', label=\"Data\")\n",
    "\n",
    "x = np.arange(0.0, 20.0, 2.0)\n",
    "plt.plot(x, 3.2 * x + 2.0, 'r-', label=r\"$3.2x + 2$\")\n",
    "plt.plot(x, 2.6 * x +  2.8, 'g-', label=r\"$2.6x + 2.8$\")\n",
    "plt.plot(x, 2.8 * x + 3.0, 'b-', label=r\"$2.8x + 3$\")\n",
    "\n",
    "plt.legend()\n",
    "\n",
    "plt.xlabel('Weight (KG)')\n",
    "plt.ylabel('Distance (CM)')\n",
    "\n",
    "plt.show()"
   ]
  },
  {
   "cell_type": "markdown",
   "metadata": {},
   "source": [
    "***\n",
    "<br>\n",
    "\n",
    "### Exponential and Linear Data\n",
    "<br>"
   ]
  },
  {
   "cell_type": "markdown",
   "metadata": {},
   "source": [
    "### Plotting 'd' and 'e' together"
   ]
  },
  {
   "cell_type": "code",
   "execution_count": 13,
   "metadata": {},
   "outputs": [
    {
     "name": "stdout",
     "output_type": "stream",
     "text": [
      "[ 0  1  2  3  4  5  6  7  8  9 10 11 12 13 14 15 16 17 18 19]\n"
     ]
    }
   ],
   "source": [
    "print(a)"
   ]
  },
  {
   "cell_type": "code",
   "execution_count": 14,
   "metadata": {},
   "outputs": [
    {
     "name": "stdout",
     "output_type": "stream",
     "text": [
      "[ 3.52810469  3.80031442  7.95747597 13.4817864  15.73511598 13.04544424\n",
      " 19.90017684 20.69728558 23.7935623  27.821197   30.28808714 35.90854701\n",
      " 37.52207545 39.24335003 42.88772647 45.66734865 50.98815815 50.58968347\n",
      " 54.6261354  55.29180852]\n"
     ]
    }
   ],
   "source": [
    "print(b)\n"
   ]
  },
  {
   "cell_type": "code",
   "execution_count": 16,
   "metadata": {},
   "outputs": [
    {
     "data": {
      "text/plain": [
       "[]"
      ]
     },
     "execution_count": 16,
     "metadata": {},
     "output_type": "execute_result"
    },
    {
     "data": {
      "image/png": "[encoded data removed]",
      "text/plain": [
       "<Figure size 432x288 with 1 Axes>"
      ]
     },
     "metadata": {
      "needs_background": "light"
     },
     "output_type": "display_data"
    }
   ],
   "source": [
    "d = np.arange(0, 100, 1)\n",
    "e = np.linspace(1, 10, 100)\n",
    "f = 3 * e + np.random.exponential(3)\n",
    "\n",
    "fig, ax = plt.subplots()\n",
    "ax.plot(d, e, 'k.')\n",
    "ax.plot(a, b, 'k.')\n",
    "\n",
    "exp = lambda d: 4**(d)\n",
    "log = lambda d: np.log(d)\n",
    "\n",
    "# Set y scale to exponential\n",
    "ax.set_yscale('function', functions=(exp, log))\n",
    "ax.set(xlim=(0,100), ylim=(0,4))\n",
    "ax.set_yticks([1, 3, 3.5, 3.75, 4.0])\n",
    "\n",
    "plt.plot()"
   ]
  },
  {
   "cell_type": "code",
   "execution_count": 17,
   "metadata": {},
   "outputs": [
    {
     "data": {
      "text/plain": [
       "[]"
      ]
     },
     "execution_count": 17,
     "metadata": {},
     "output_type": "execute_result"
    },
    {
     "data": {
      "image/png": "[encoded data removed]",
      "text/plain": [
       "<Figure size 432x288 with 1 Axes>"
      ]
     },
     "metadata": {
      "needs_background": "light"
     },
     "output_type": "display_data"
    }
   ],
   "source": [
    "np.random.seed(0)\n",
    "d = np.arange(0, 100, 1)\n",
    "e = np.linspace(1, 10, 100)\n",
    "f = e + np.random.exponential(1, size = None)\n",
    "\n",
    "fig, ax = plt.subplots()\n",
    "ax.plot(e, f, 'k.')\n",
    "\n",
    "exp = lambda d: 4**(d)\n",
    "log = lambda d: np.log(d)\n",
    "\n",
    "# Set y scale to exponential\n",
    "ax.set_yscale('function', functions=(exp, log))\n",
    "ax.set(xlim=(0,100), ylim=(0,4))\n",
    "ax.set_yticks([1, 3, 3.5, 3.75, 4.0])\n",
    "\n",
    "plt.plot()"
   ]
  },
  {
   "cell_type": "code",
   "execution_count": 18,
   "metadata": {},
   "outputs": [],
   "source": [
    "# Import curve fitting package from scipy\n",
    "from scipy.optimize import curve_fit"
   ]
  },
  {
   "cell_type": "code",
   "execution_count": 19,
   "metadata": {},
   "outputs": [
    {
     "data": {
      "text/plain": [
       "<matplotlib.collections.PathCollection at 0x23ada16a070>"
      ]
     },
     "execution_count": 19,
     "metadata": {},
     "output_type": "execute_result"
    },
    {
     "data": {
      "image/png": "[encoded data removed]",
      "text/plain": [
       "<Figure size 432x288 with 1 Axes>"
      ]
     },
     "metadata": {
      "needs_background": "light"
     },
     "output_type": "display_data"
    }
   ],
   "source": [
    "# Function to calculate the exponential with constants a and b\n",
    "def exponential(x, a, b):\n",
    "    return a*np.exp(b*x)\n",
    "\n",
    "# Generate dummy dataset\n",
    "x_dummy = np.linspace(start=5, stop=15, num=50)\n",
    "\n",
    "# Calculate y-values based on dummy x-values\n",
    "y_dummy = exponential(x_dummy, 0.5, 0.5)\n",
    "\n",
    "# Add noise from a Gaussian distribution\n",
    "noise = 5*np.random.normal(size=y_dummy.size)\n",
    "y_dummy = y_dummy + noise\n",
    "\n",
    "# Plot the noisy exponential data\n",
    "plt.scatter(x_dummy, y_dummy, s=20, color='#00b3b3', label='Data 2')\n",
    "plt.scatter(a, b, s=20, label='Data 1')\n",
    "\n",
    "#plt.scatter()"
   ]
  },
  {
   "cell_type": "markdown",
   "metadata": {},
   "source": [
    "#### Reference: Fit Exponential Distribution with Noise: https://stats.stackexchange.com/questions/151606/fit-exponential-distribution-with-noise"
   ]
  },
  {
   "cell_type": "markdown",
   "metadata": {},
   "source": [
    "#### Reference: Stackoverflow - 'How can I exponentially scale the Y axis?': https://stackoverflow.com/questions/26198260/how-can-i-exponentially-scale-the-y-axis-with-matplotlib"
   ]
  },
  {
   "cell_type": "markdown",
   "metadata": {},
   "source": [
    "#### Reference: Curve Fitting (Towards Data Science): https://towardsdatascience.com/basic-curve-fitting-of-scientific-data-with-python-9592244a2509"
   ]
  },
  {
   "cell_type": "markdown",
   "metadata": {},
   "source": [
    "## Scikit-Learn Library Overview"
   ]
  },
  {
   "cell_type": "markdown",
   "metadata": {},
   "source": [
    "### Classification\n",
    "\n",
    "#### Classification Definition (Indicative.com)\n",
    "\n",
    "Classification analysis is a data analysis task within data-mining, that identifies and assigns categories to a collection of data to allow for more accurate analysis. The classification method makes use of mathematical techniques such as decision trees, linear programming, neural network and statistics.\n",
    "\n",
    "Classification analysis can be used to question, make a decision, or predict behavior through the use of an algorithm. It works by developing a set of training data which contains a certain set of attributes as well as the likely outcome. The job of the classification algorithm is to discover how that set of attributes reaches its conclusion.\n",
    "\n"
   ]
  },
  {
   "cell_type": "markdown",
   "metadata": {},
   "source": [
    "#### Reference: https://www.nltk.org/api/nltk.classify.scikitlearn.html \n",
    "\n",
    "#### Reference: https://www.indicative.com/resource/classification-analysis/\n",
    "\n"
   ]
  },
  {
   "cell_type": "markdown",
   "metadata": {},
   "source": [
    "***\n",
    "\n",
    "### Regression\n",
    "\n",
    "#### Explained (Achemer.com):\n",
    "\n",
    "Regression analysis is a reliable method of identifying which variables have impact on a topic of interest. The process of performing a regression allows you to confidently determine which factors matter most, which factors can be ignored, and how these factors influence each other.\n",
    "\n",
    "In order to understand regression analysis fully, it’s essential to comprehend the following terms:\n",
    "\n",
    "Dependent Variable: This is the main factor that you’re trying to understand or predict. \n",
    "Independent Variables: These are the factors that you hypothesize have an impact on your dependent variable.\n",
    "\n",
    "#### Reference: alchemer.com/resources/blog/regression-analysis/"
   ]
  },
  {
   "cell_type": "markdown",
   "metadata": {},
   "source": [
    "***\n",
    "\n",
    "### Clustering\n",
    "\n",
    "#### Qualtrics.com:\n",
    "\n",
    "Cluster analysis is a statistical method for processing data. It works by organising items into groups, or clusters, on the basis of how closely associated they are.\n",
    "\n",
    "Cluster analysis, like reduced space analysis (factor analysis), is concerned with data matrices in which the variables have not been partitioned beforehand into criterion versus predictor subsets. The objective of cluster analysis is to find similar groups of subjects, where “similarity” between each pair of subjects means some global measure over the whole set of characteristics.\n",
    "\n",
    "Cluster analysis is an unsupervised learning algorithm, meaning that you don’t know how many clusters exist in the data before running the model. Unlike many other statistical methods, cluster analysis is typically used when there is no assumption made about the likely relationships within the data. It provides information about where associations and patterns in data exist, but not what those might be or what they mean.\n",
    "\n",
    "In this article, we discuss various methods of clustering and the key role that distance plays as measures of the proximity of pairs of points.\n",
    "\n",
    "#### Reference: https://www.qualtrics.com/uk/experience-management/research/cluster-analysis/?rid=ip&prevsite=en&newsite=uk&geo=IE&geomatch=uk"
   ]
  },
  {
   "cell_type": "markdown",
   "metadata": {},
   "source": [
    "***\n",
    "\n",
    "### Dimensionality Reduction\n",
    "\n",
    "##### Reference: https://machinelearningmastery.com/dimensionality-reduction-for-machine-learning/\n",
    "\n",
    "Dimensionality reduction refers to techniques for reducing the number of input variables in training data.\n",
    "\n",
    "When dealing with high dimensional data, it is often useful to reduce the dimensionality by projecting the data to a lower dimensional subspace which captures the “essence” of the data. This is called dimensionality reduction.\n",
    "\n",
    "— Page 11, Machine Learning: A Probabilistic Perspective, 2012.\n",
    "\n",
    "High-dimensionality might mean hundreds, thousands, or even millions of input variables.\n",
    "\n",
    "Fewer input dimensions often mean correspondingly fewer parameters or a simpler structure in the machine learning model, referred to as degrees of freedom. A model with too many degrees of freedom is likely to overfit the training dataset and therefore may not perform well on new data.\n",
    "\n",
    "It is desirable to have simple models that generalize well, and in turn, input data with few input variables. This is particularly true for linear models where the number of inputs and the degrees of freedom of the model are often closely related.\n",
    "\n",
    "The fundamental reason for the curse of dimensionality is that high-dimensional functions have the potential to be much more complicated than low-dimensional ones, and that those complications are harder to discern. The only way to beat the curse is to incorporate knowledge about the data that is correct."
   ]
  },
  {
   "cell_type": "markdown",
   "metadata": {},
   "source": [
    "***\n",
    "\n",
    "### Model Selection\n",
    "\n",
    "A Gentle Introduction to Model Selection for Machine Learning\n",
    "by Jason Brownlee on December 2, 2019 in Machine Learning Process\n",
    "Tweet  Share\n",
    "Given easy-to-use machine learning libraries like scikit-learn and Keras, it is straightforward to fit many different machine learning models on a given predictive modeling dataset.\n",
    "\n",
    "The challenge of applied machine learning, therefore, becomes how to choose among a range of different models that you can use for your problem.\n",
    "\n",
    "Naively, you might believe that model performance is sufficient, but should you consider other concerns, such as how long the model takes to train or how easy it is to explain to project stakeholders. Their concerns become more pressing if a chosen model must be used operationally for months or years.\n",
    "\n",
    "Also, what are you choosing exactly: just the algorithm used to fit the model or the entire data preparation and model fitting pipeline?\n",
    "\n",
    "In this post, you will discover the challenge of model selection for machine learning.\n",
    "\n",
    "After reading this post, you will know:\n",
    "\n",
    "Model selection is the process of choosing one among many candidate models for a predictive modeling problem.\n",
    "There may be many competing concerns when performing model selection beyond model performance, such as complexity, maintainability, and available resources.\n",
    "The two main classes of model selection techniques are probabilistic measures and resampling methods.\n",
    "\n",
    "#### Reference: https://machinelearningmastery.com/a-gentle-introduction-to-model-selection-for-machine-learning/"
   ]
  },
  {
   "cell_type": "markdown",
   "metadata": {},
   "source": [
    "***\n",
    "\n",
    "### Preprocessing\n",
    "\n",
    "#### Reference: https://towardsdatascience.com/introduction-to-data-preprocessing-in-machine-learning-a9fa83a5dc9d\n",
    "\n",
    "#### 1. Handling Null Values\n",
    "\n",
    "In any real-world dataset, there are always few null values. It doesn’t really matter whether it is a regression, classification or any other kind of problem, no model can handle these NULL or NaN values on its own so we need to intervene."
   ]
  },
  {
   "cell_type": "markdown",
   "metadata": {},
   "source": [
    "#### 2. Imputation\n",
    "\n",
    "Imputation is simply the process of substituting the missing values of our dataset. We can do this by defining our own customised function or we can simply perform imputation by using the SimpleImputer class provided by sklearn."
   ]
  },
  {
   "cell_type": "markdown",
   "metadata": {},
   "source": [
    "#### 3. Standardization\n",
    "\n",
    "It is another integral preprocessing step. In Standardization, we transform our values such that the mean of the values is 0 and the standard deviation is 1.\n",
    "\n",
    "##### Example:\n",
    "Consider the column Age from Dataframe 1. In order to standardize this column, we need to calculate the mean and standard deviation and then we will transform each value of age using the above formula.\n",
    "We don’t need to do this process manually as sklearn provides a function called StandardScaler.\n",
    "\n",
    "The important thing to note here is that we need to standardize both training and testing data.\n",
    "fit_transform is equivalent to using fit and then transform.\n",
    "\n",
    "fit function calculates the mean and standard deviation and the transform function actually standardizes the dataset and we can do this process in a single line of code using the fit_transform function."
   ]
  },
  {
   "cell_type": "markdown",
   "metadata": {},
   "source": [
    "#### 4. Handling Categorical Variables\n",
    "\n",
    "Handling categorical variables is another integral aspect of Machine Learning. Categorical variables are basically the variables that are discrete and not continuous. Ex — color of an item is a discrete variable whereas its price is a continuous variable.\n",
    "\n",
    "##### Categorical variables are further divided into 2 types:\n",
    "\n",
    "**Ordinal categorical variables** — These variables can be ordered. Ex — Size of a T-shirt. We can say that M<L<XL.\n",
    "\n",
    "**Nominal categorical variables** — These variables can’t be ordered. Ex — Color of a T-shirt. We can’t say that Blue<Green as it doesn’t make any sense to compare the colors as they don’t have any relationship."
   ]
  },
  {
   "cell_type": "code",
   "execution_count": null,
   "metadata": {},
   "outputs": [],
   "source": []
  },
  {
   "cell_type": "code",
   "execution_count": null,
   "metadata": {},
   "outputs": [],
   "source": []
  },
  {
   "cell_type": "code",
   "execution_count": null,
   "metadata": {},
   "outputs": [],
   "source": []
  }
 ],
 "metadata": {
  "kernelspec": {
   "display_name": "Python 3",
   "language": "python",
   "name": "python3"
  },
  "language_info": {
   "codemirror_mode": {
    "name": "ipython",
    "version": 3
   },
   "file_extension": ".py",
   "mimetype": "text/x-python",
   "name": "python",
   "nbconvert_exporter": "python",
   "pygments_lexer": "ipython3",
   "version": "3.8.3"
  }
 },
 "nbformat": 4,
 "nbformat_minor": 4
}
