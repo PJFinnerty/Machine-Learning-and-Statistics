{
 "cells": [
  {
   "cell_type": "markdown",
   "metadata": {},
   "source": []
  },
  {
   "cell_type": "code",
   "execution_count": 5,
   "metadata": {},
   "outputs": [],
   "source": [
    "import numpy as np\n",
    "import pandas as pd\n",
    "import matplotlib.pyplot as plt\n",
    "import seaborn as sns\n",
    "\n",
    "from sklearn.datasets import load_wine\n",
    "# Import train and test split\\\n",
    "from sklearn.model_selection import train_test_split\n",
    "\n",
    "# Improt preprocessing module\n",
    "from sklearn import preprocessing\n",
    "\n",
    "# Import Random Forest\n",
    "from sklearn.ensemble import RandomForestRegressor\n",
    "\n",
    "# Import cross-validation tools\n",
    "from sklearn.pipeline import make_pipeline\n",
    "from sklearn.model_selection import GridSearchCV\n",
    "\n",
    "# Import metrics for model performance\n",
    "from sklearn.metrics import mean_squared_error, r2_score\n",
    "\n",
    "# Import module for storing arrays\n",
    "import joblib\n",
    "\n",
    "from sklearn.neighbors import KNeighborsClassifier\n",
    "\n",
    "from scipy import stats as ss\n",
    "\n",
    "import collections as co\n",
    "\n",
    "# Specials.\n",
    "import scipy.special as spec\n"
   ]
  },
  {
   "cell_type": "markdown",
   "metadata": {},
   "source": [
    "***\n",
    "\n",
    "# Section 1: SciKit-Learn Overview\n",
    "\n",
    "<br>"
   ]
  },
  {
   "cell_type": "markdown",
   "metadata": {},
   "source": [
    "## 1.1. Introduction\n",
    "\n",
    "<br>"
   ]
  },
  {
   "cell_type": "markdown",
   "metadata": {},
   "source": [
    "Scikit-learn, or 'Sklearn', is an open source and commercially usable machine learning library within Python. The library is built upon Numpy and SciPy to carry out a variety of essential machine learning processes. \n",
    "\n",
    "The type of machine learning carried out by Sklearn is broadly separated into two categories: **supervised machine learning** and **unsupervised machine learning**.\n",
    "\n",
    "<br>"
   ]
  },
  {
   "cell_type": "markdown",
   "metadata": {},
   "source": [
    "***\n",
    "\n",
    "## 1.2.Supervised Machine Learning\n",
    "\n",
    "In Supervised Machine Learning, or 'SML', the data being used is labeled. There is an input variable, 'X', and an output variable, 'Y', and you use an algorithm to learn the mapping from the output to the input. \n",
    "\n",
    "The data scientist oversees the algorithms that are used in SML by creating a model. The data is split into training and testing data and using this trained data, the model is 'supervised'. Essentially, the model iteratively learns to carry out accurate predictions or classifications. The algorithm eventually reaches an acceptable level of accuracy. The data scientist oversees this process, and using a number of tools (helper functions within Sklearn for example), decides if the model that has learned from the trained data is accurate,\n",
    "\n",
    "Specific algorithms are utilised on this labeled data, different to those that we could use on unlabelled. \n",
    "\n",
    "#### Reference: https://www.ibm.com/cloud/blog/supervised-vs-unsupervised-learning\n",
    "\n",
    "#### References: https://machinelearningmastery.com/supervised-and-unsupervised-machine-learning-algorithms/\n",
    "\n",
    "<br>"
   ]
  },
  {
   "cell_type": "markdown",
   "metadata": {},
   "source": [
    "***\n",
    "\n",
    "## 1.3. Unsupervised Machine Learning\n",
    "\n",
    "In Unsupervised Machine Learning ('UML'), there is an input variable, 'X', but no output variables. We much instead rely upon Sklearn algorithms that can investigate the existing data and derive learnings from this alone, by investigating patterns existing in the data.\n",
    "\n",
    "UML can be generally sub-divided into two problem solving methods: **clusering** and **Association**. \n",
    "\n",
    "In clustering, algorithms are used to study patterns that suggest there are groups within the unlabelled data. In this case, the algorithm looks groups of datapoints that are clustered according to some variables. An example application of clustering is in *churn prediction*, where a company may want to study the period of time it takes subscribers to unsubscribe. \n",
    "\n",
    "Association is where algorithms look at data and learn patterns that describe large portions of data. For example, people who unsubscribe from a service within the first month, also tended to not have received email prompts offering discounts. This is not investigating the data as being comprised of identifiable clusters, but rather as having an overall trend that can be of value. \n",
    "\n",
    "<br>"
   ]
  },
  {
   "cell_type": "markdown",
   "metadata": {},
   "source": [
    "***\n",
    "\n",
    "## 1.4. Sklearn Problems\n",
    "\n",
    "Sklearn is broadly separated into 6 areas of Machine Learning:\n",
    "\n",
    "1. Classification\n",
    "2. Regression\n",
    "3. Preprocessing\n",
    "4. Clustering\n",
    "5. Model Selection\n",
    "6. Dimensionality Reduction\n",
    "\n",
    "**Classification** and **Regression** are Supervised Machine Learning problems.\n",
    "\n",
    "**Clustering** and **Dimensionality Reduction** are Unsupervised problems. \n",
    "\n",
    "**Preprocessing** and **Model Selection** are processes that can be applied to both SML and UML problems.\n",
    "\n",
    "It is important to get an understanding of each of these algorithms and how they work."
   ]
  },
  {
   "cell_type": "markdown",
   "metadata": {},
   "source": [
    "<br>\n",
    "\n",
    "### 1. Classification\n",
    "\n",
    "Classification is a SML problem that involves investigating data and identifying which category it belongs to. \n",
    "\n",
    "Take for example the Diet dataset that we will look at in the Scipy.Stats notebook. This contains an independent variable, 'Diet' - which contains three categories, each one representing a different diet. It also contains a dependent variable, which is the weight change measured after 6 weeks on the diet. \n",
    "\n",
    "that is comprised of an independent variable and a dependent variable"
   ]
  },
  {
   "cell_type": "code",
   "execution_count": 21,
   "metadata": {},
   "outputs": [],
   "source": [
    "df = pd.read_csv('diet_BMI_incl.csv')\n",
    "Diet = df['Diet']\n",
    "BMI = df['BMI_change']\n",
    "#Gender = df['gender']\n",
    "#Age = df['Age']\n",
    "Height = df['Height']"
   ]
  },
  {
   "cell_type": "code",
   "execution_count": 22,
   "metadata": {},
   "outputs": [
    {
     "name": "stderr",
     "output_type": "stream",
     "text": [
      "c:\\users\\hp\\anaconda3\\lib\\site-packages\\seaborn\\distributions.py:2551: FutureWarning: `distplot` is a deprecated function and will be removed in a future version. Please adapt your code to use either `displot` (a figure-level function with similar flexibility) or `histplot` (an axes-level function for histograms).\n",
      "  warnings.warn(msg, FutureWarning)\n"
     ]
    },
    {
     "data": {
      "text/plain": [
       "<seaborn.axisgrid.FacetGrid at 0x1ba461efdf0>"
      ]
     },
     "execution_count": 22,
     "metadata": {},
     "output_type": "execute_result"
    },
    {
     "data": {
      "image/png": "[encoded data removed]",
      "text/plain": [
       "<Figure size 437.625x396 with 1 Axes>"
      ]
     },
     "metadata": {},
     "output_type": "display_data"
    }
   ],
   "source": [
    "sns.FacetGrid(df,hue='Diet',height=5.5).map(sns.distplot,'BMI_change', kde=False).add_legend()\n",
    "#sns.scatterplot(x=BMI, y=Diet, hue=Diet, data=df)"
   ]
  },
  {
   "cell_type": "markdown",
   "metadata": {},
   "source": [
    "From the above plot we see the BMI histograms for the three diet groups. We notice that there is a large degree of overlap between diet 0 and diet 1. However, we notice that there appears to be a large degree of diet 2 vectors that is differentiated from the other two groups.\n",
    "\n",
    "#### Classification Problem:\n",
    "\n",
    "You are presented with a number of BMI_change datapoints, but are not told which category of diet they relate to. In this case you could use Classification algorithms to determine which diet the measurement relates to.\n",
    "\n",
    "In this example you are given a measurement of 3% BMI_change. A Classification algorithm such as *K-nearest neighbor* (sklearn.neighbors.KNeighborsClassifier) in order to determine what diet was most likely. In this case, it would be necessary to use the KNN algorithm on bivariate data (by plotting Height by BMI_Change, for example).\n",
    "\n",
    "We will look more at this type of algorithm later."
   ]
  },
  {
   "cell_type": "markdown",
   "metadata": {},
   "source": [
    "***\n",
    "\n",
    "### 2. Regression\n",
    "\n",
    "Regression is the second Supervised Machine Learning problem that Sklearn addresses. Regression is the measure of the mean of one value, the output, and the corresponding value of the other values.\n",
    "\n",
    "Take for example the Powerproduction dataset. This data contains two features. The independent variable is 'speed' and the dependent variable is power.\n",
    "\n",
    "#### Regression Problem\n",
    "\n",
    "There is a desired to understand for each measure of Speed, what the corresponding Power measure will be.\n",
    "\n",
    "By carrying out Polynomial regression on this dataset, we can draw a 'line of best fit' through the data. This is a line that fits through the spread of data vectors, whereby, the combined distance from each point to the line is at it's lowest. This is known as calculating the cost of the line.\n",
    "\n",
    "Below, a mapping function containing SciPy's curve_fit() function shows the desired effect of Regression. This is for demonstration purposes only, as can be seen in the line between the measure of 'Speed' of 7 and 10, the line does not fit very well in this area. The regression that will take place later in this project will use trained data and will be more accurate."
   ]
  },
  {
   "cell_type": "code",
   "execution_count": 23,
   "metadata": {},
   "outputs": [],
   "source": [
    "df = pd.read_csv(\"powerproduction.txt\")"
   ]
  },
  {
   "cell_type": "code",
   "execution_count": 24,
   "metadata": {},
   "outputs": [],
   "source": [
    "from scipy.optimize import curve_fit\n"
   ]
  },
  {
   "cell_type": "code",
   "execution_count": 25,
   "metadata": {},
   "outputs": [
    {
     "data": {
      "image/png": "[encoded data removed]",
      "text/plain": [
       "<Figure size 432x288 with 1 Axes>"
      ]
     },
     "metadata": {},
     "output_type": "display_data"
    }
   ],
   "source": [
    "# define the basis function\n",
    "def basis(x, a, b, c):\n",
    "    return a * np.power(x, 7) + b * x**2 + c\n",
    "\n",
    "# choose the input and output variables\n",
    "x, y = df[\"speed\"], df[\"power\"]\n",
    "# curve fit\n",
    "exponents, _ = curve_fit(basis, x, y)\n",
    "# summarize the parameter values\n",
    "a, b, c = exponents\n",
    "\n",
    "# plot inputs and outputs\n",
    "plt.scatter(x, y, alpha=0.5)\n",
    "\n",
    "# Use np.arange to inputs from smallest vector to largest\n",
    "x_array = np.arange(min(x), max(x), 1)\n",
    "# calculate the output for the range\n",
    "y_array = basis(x_array, a, b, c)\n",
    "# create a line plot for the mapping function\n",
    "plt.plot(x_array, y_array, color='red')\n",
    "plt.title(\"Polynomial Regression Function on Full Dataset\")\n",
    "plt.xlabel(\"Speed\")\n",
    "plt.ylabel(\"Power\")\n",
    "\n",
    "plt.show()"
   ]
  },
  {
   "cell_type": "markdown",
   "metadata": {},
   "source": [
    "***\n",
    "\n",
    "### 3. Preprocessing\n",
    "\n",
    "Sklearn doesn't automatically do any preprocessing because you won't have control over how to preprocess. Such as how to encode variables or how to compute data.\n",
    "\n",
    "#### Preprocessing Problem\n",
    "\n",
    "More often than not, before you build your model from the training labels and training data, you are taking extra steps in between such as feature extraction, scaling and feature selection - when these steps have been implemented, they are included in the model.\n",
    "\n",
    "Cross-validation should happen on the whole processing pipeline, from feature extraction to feature selection\n",
    "\n",
    "\n",
    "\n",
    "<img src=\"https://miro.medium.com/max/702/1*NfTkTp_35ylyDIdreYb9Sw.png\" style=\"width: 650px;\">\n",
    "\n",
    "The image above lays out the main preproccesing steps. These can all be implemented in Sklearn. For example, imputation of NaN values, or scaling, where the data is spread out across a particular scale, which is very helpful if your data is sparse.\n",
    "\n",
    "<br>"
   ]
  },
  {
   "cell_type": "markdown",
   "metadata": {},
   "source": [
    "***\n",
    "\n",
    "### 4. Clustering\n",
    "\n",
    "<br>\n",
    "\n",
    "Clustering \"involves automatically discovering natural grouping in data. Unlike supervised learning (like predictive modeling), clustering algorithms only interpret the input data and find natural groups or clusters in feature space\" (Machine Learning Mastery: https://machinelearningmastery.com/clustering-algorithms-with-python/).\n",
    "\n",
    "This is a form of UML where groups within the data are noted and inferences are made based on these patterns. \n",
    "\n",
    "#### Clustering Problem\n",
    "\n",
    "Imagine that you are given a dataset without labels. By carrying out bivariate analysis using scatterplots specific clusters are noted.\n",
    "\n",
    "You must now carry out Unsupervised Machine Learning to determine if these clusters is an appropriate way to distinguish between the groups."
   ]
  },
  {
   "cell_type": "markdown",
   "metadata": {},
   "source": [
    "<img src=\"https://miro.medium.com/max/1000/1*0DDt5Xp9z6ecj5eL6FNAfQ.png\" style=\"width: 850px;\"> "
   ]
  },
  {
   "cell_type": "markdown",
   "metadata": {},
   "source": [
    "Taking the above image of data groups, Sklearns clustering algorithms can be used to determine the most appropriate way to cluster.\n",
    "\n",
    "<br>"
   ]
  },
  {
   "cell_type": "markdown",
   "metadata": {},
   "source": [
    "***\n",
    "\n",
    "### 5. Model Selection and Evaluation\n",
    "\n",
    "Sklearn employs a number of functions within it's Model Selection module to help with testing classifiers and models.\n",
    "\n",
    "#### Model Selection Problem\n",
    "\n",
    "You have just created a model containing test and train data. You have carried out Simple Linear Regression but wish to determine if this is accurate and that the model is appropriate. This has given you a more robust estimate on the generalisation performance of your model.\n",
    "\n",
    "You can use a number of helper functions within Sklearn to achieve this. These offer cross-validation to the data.\n",
    "\n",
    "You can use cross_val_score() function to get an object, data and labels and input how much cross validation to use (3 fold, 5 fold etc). This function will return the scores on the 'holdout' set for each evaluation. For 5 folds, you will get 5 scores. You can then calculate the mean of the 5 scores. This is illustrated by the below image.\n",
    "\n",
    "<img src=\"https://www.kdnuggets.com/wp-content/uploads/train_test_split.jpg\" style=\"width: 850px;\">\n",
    "\n",
    "<br>"
   ]
  },
  {
   "cell_type": "markdown",
   "metadata": {},
   "source": [
    "***\n",
    "\n",
    "### 6. Dimensionality Reduction\n",
    "\n",
    "The more random variables that are being included in a model, the more likely it is that it will be inaccurate. Sklearn has developed a means to reduce down the number of variables included.\n",
    "\n",
    "Dimensionality Reduction is a section of Sklearn that allows one to whittle down to only the useful variables. \n",
    "\n",
    "#### Dimensionality Problem\n",
    "\n",
    "In the image below, this concept is illustrated by comparing 1d, 2d, 3d and Nd data:\n",
    "\n",
    "<img src=\"https://miro.medium.com/max/959/1*kK4aMPHQ89ssFEus6RT4Yw.jpeg\" style=\"width: 650px;\">\n",
    "\n",
    "It is clear that it is easier and more accurate to recognise patterns in the data if it is reduced down to lower dimentionality.\n",
    "\n",
    "In Sklearn the estimator.tranform() method can be used to achieve this.\n",
    "\n",
    "<br>"
   ]
  },
  {
   "cell_type": "markdown",
   "metadata": {},
   "source": [
    "<br>\n",
    "\n",
    "***\n",
    "\n",
    "<br>\n",
    "\n",
    "# Section 2: Sklearn Algorithms: K-nearest Neighbor, RandomForest and  \n",
    "\n",
    "<br>"
   ]
  },
  {
   "cell_type": "code",
   "execution_count": null,
   "metadata": {},
   "outputs": [],
   "source": []
  },
  {
   "cell_type": "code",
   "execution_count": null,
   "metadata": {},
   "outputs": [],
   "source": []
  },
  {
   "cell_type": "code",
   "execution_count": null,
   "metadata": {},
   "outputs": [],
   "source": []
  },
  {
   "cell_type": "code",
   "execution_count": null,
   "metadata": {},
   "outputs": [],
   "source": []
  },
  {
   "cell_type": "code",
   "execution_count": null,
   "metadata": {},
   "outputs": [],
   "source": []
  },
  {
   "cell_type": "code",
   "execution_count": null,
   "metadata": {},
   "outputs": [],
   "source": []
  },
  {
   "cell_type": "code",
   "execution_count": null,
   "metadata": {},
   "outputs": [],
   "source": []
  },
  {
   "cell_type": "code",
   "execution_count": null,
   "metadata": {},
   "outputs": [],
   "source": []
  },
  {
   "cell_type": "code",
   "execution_count": null,
   "metadata": {},
   "outputs": [],
   "source": []
  },
  {
   "cell_type": "code",
   "execution_count": null,
   "metadata": {},
   "outputs": [],
   "source": []
  }
 ],
 "metadata": {
  "kernelspec": {
   "display_name": "Python 3",
   "language": "python",
   "name": "python3"
  },
  "language_info": {
   "codemirror_mode": {
    "name": "ipython",
    "version": 3
   },
   "file_extension": ".py",
   "mimetype": "text/x-python",
   "name": "python",
   "nbconvert_exporter": "python",
   "pygments_lexer": "ipython3",
   "version": "3.8.3"
  }
 },
 "nbformat": 4,
 "nbformat_minor": 4
}
