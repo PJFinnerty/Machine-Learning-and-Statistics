{
 "cells": [
  {
   "cell_type": "markdown",
   "metadata": {},
   "source": []
  },
  {
   "cell_type": "code",
   "execution_count": 3,
   "metadata": {},
   "outputs": [],
   "source": [
    "import numpy as np\n",
    "import pandas as pd\n",
    "import matplotlib.pyplot as plt\n",
    "import seaborn as sns\n",
    "\n",
    "from sklearn.datasets import load_wine\n",
    "# Import train and test split\\\n",
    "from sklearn.model_selection import train_test_split\n",
    "\n",
    "# Improt preprocessing module\n",
    "from sklearn import preprocessing\n",
    "\n",
    "# Import Random Forest\n",
    "from sklearn.ensemble import RandomForestRegressor\n",
    "\n",
    "# Import cross-validation tools\n",
    "from sklearn.pipeline import make_pipeline\n",
    "from sklearn.model_selection import GridSearchCV\n",
    "\n",
    "# Import metrics for model performance\n",
    "from sklearn.metrics import mean_squared_error, r2_score\n",
    "\n",
    "# Import module for storing arrays\n",
    "import joblib\n",
    "\n",
    "from sklearn.neighbors import KNeighborsClassifier\n",
    "\n",
    "from scipy import stats as ss\n",
    "\n",
    "import collections as co\n",
    "\n",
    "# Specials.\n",
    "import scipy.special as spec\n"
   ]
  },
  {
   "cell_type": "markdown",
   "metadata": {},
   "source": [
    "***\n",
    "\n",
    "# SciKit-Learn Overview\n",
    "\n",
    "<br>"
   ]
  },
  {
   "cell_type": "markdown",
   "metadata": {},
   "source": [
    "## Introduction\n",
    "\n",
    "<br>"
   ]
  },
  {
   "cell_type": "markdown",
   "metadata": {},
   "source": [
    "Scikit-learn, or 'Sklearn', is an open source and commercially usable machine learning library within Python. The library is built upon Numpy and SciPy to carry out a variety of essential machine learning processes. \n",
    "\n",
    "The type of machine learning carried out by Sklearn is broadly separated into two categories: **supervised machine learning** and **unsupervised machine learning**.\n",
    "\n",
    "<br>"
   ]
  },
  {
   "cell_type": "markdown",
   "metadata": {},
   "source": [
    "***\n",
    "\n",
    "## Supervised Machine Learning\n",
    "\n",
    "In Supervised Machine Learning, or 'SML', the data being used is labeled. There is an input variable, 'X', and an output variable, 'Y', and you use an algorithm to learn the mapping from the output to the input. \n",
    "\n",
    "The data scientist oversees the algorithms that are used in SML by creating a model. The data is split into training and testing data and using this trained data, the model is 'supervised'. Essentially, the model iteratively learns to carry out accurate predictions or classifications. The algorithm eventually reaches an acceptable level of accuracy. The data scientist oversees this process, and using a number of tools (helper functions within Sklearn for example), decides if the model that has learned from the trained data is accurate,\n",
    "\n",
    "Specific algorithms are utilised on this labeled data, different to those that we could use on unlabelled. \n",
    "\n",
    "#### Reference: https://www.ibm.com/cloud/blog/supervised-vs-unsupervised-learning\n",
    "\n",
    "#### References: https://machinelearningmastery.com/supervised-and-unsupervised-machine-learning-algorithms/\n",
    "\n",
    "<br>"
   ]
  },
  {
   "cell_type": "markdown",
   "metadata": {},
   "source": [
    "***\n",
    "\n",
    "## Unsupervised Machine Learning\n",
    "\n",
    "In Unsupervised Machine Learning ('UML'), there is an input variable, 'X', but no output variables. We much instead rely upon Sklearn algorithms that can investigate the existing data and derive learnings from this alone, by investigating patterns existing in the data.\n",
    "\n",
    "UML can be generally sub-divided into two problem solving methods: **clusering** and **Association**. \n",
    "\n",
    "In clustering, algorithms are used to study patterns that suggest there are groups within the unlabelled data. In this case, the algorithm looks groups of datapoints that are clustered according to some variables. An example application of clustering is in *churn prediction*, where a company may want to study the period of time it takes subscribers to unsubscribe. \n",
    "\n",
    "Association is where algorithms look at data and learn patterns that describe large portions of data. For example, people who unsubscribe from a service within the first month, also tended to not have received email prompts offering discounts. This is not investigating the data as being comprised of identifiable clusters, but rather as having an overall trend that can be of value. \n",
    "\n",
    "<br>"
   ]
  },
  {
   "cell_type": "markdown",
   "metadata": {},
   "source": [
    "***\n",
    "\n",
    "## Sklearn Algorithms\n",
    "\n",
    "Sklearn is broadly separated into 6 areas of Machine Learning:\n",
    "\n",
    "* Classification\n",
    "* Regression\n",
    "* Dimensionality Reduction\n",
    "* Clustering\n",
    "* Model Selection\n",
    "* Preprocessing\n",
    "\n",
    "**Classification** and **Regression** are Supervised Machine Learning problems.\n",
    "\n",
    "**Clustering** and **Dimensionality Reduction** are Unsupervised problems. \n",
    "\n",
    "**Preprocessing** and **Model Selection** are processes that can be applied to both SML and UML problems.\n",
    "\n",
    "It is important to get an understanding of each of these algorithms and how they work."
   ]
  },
  {
   "cell_type": "markdown",
   "metadata": {},
   "source": [
    "<br>\n",
    "\n",
    "### 1. Classification\n",
    "\n",
    "Classification is a SML problem that involves investigating data and identifying which category it belongs to. \n",
    "\n",
    "Take for example the Diet dataset that we will look at in the Scipy.Stats notebook. This contains an independent variable, 'Diet' - which contains three categories, each one representing a different diet. It also contains a dependent variable, which is the weight change measured after 6 weeks on the diet. \n",
    "\n",
    "that is comprised of an independent variable and a dependent variable"
   ]
  },
  {
   "cell_type": "code",
   "execution_count": 40,
   "metadata": {},
   "outputs": [],
   "source": [
    "df = pd.read_csv('diet_BMI_incl.csv')\n",
    "Diet = df['Diet']\n",
    "BMI = df['BMI_change']\n",
    "#Gender = df['gender']\n",
    "#Age = df['Age']\n",
    "Height = df['Height']"
   ]
  },
  {
   "cell_type": "code",
   "execution_count": 31,
   "metadata": {},
   "outputs": [
    {
     "name": "stderr",
     "output_type": "stream",
     "text": [
      "c:\\users\\hp\\anaconda3\\lib\\site-packages\\seaborn\\distributions.py:2551: FutureWarning: `distplot` is a deprecated function and will be removed in a future version. Please adapt your code to use either `displot` (a figure-level function with similar flexibility) or `histplot` (an axes-level function for histograms).\n",
      "  warnings.warn(msg, FutureWarning)\n"
     ]
    },
    {
     "data": {
      "text/plain": [
       "<seaborn.axisgrid.FacetGrid at 0x1bda1f16af0>"
      ]
     },
     "execution_count": 31,
     "metadata": {},
     "output_type": "execute_result"
    },
    {
     "data": {
      "image/png": "[encoded data removed]",
      "text/plain": [
       "<Figure size 438.375x396 with 1 Axes>"
      ]
     },
     "metadata": {
      "needs_background": "light"
     },
     "output_type": "display_data"
    }
   ],
   "source": [
    "sns.FacetGrid(df,hue='Diet',height=5.5).map(sns.distplot,'BMI_change', kde=False).add_legend()\n",
    "#sns.scatterplot(x=BMI, y=Diet, hue=Diet, data=df)"
   ]
  },
  {
   "cell_type": "markdown",
   "metadata": {},
   "source": [
    "From the above plot we see the BMI histograms for the three diet groups. We notice that there is a large degree of overlap between diet 0 and diet 1. However, we notice that there appears to be a large degree of diet 2 vectors that is differentiated from the other two groups.\n",
    "\n",
    "#### Classification Problem:\n",
    "\n",
    "You are presented with a number of BMI_change datapoints, but are not told which category of diet they relate to. In this case you could use Classification algorithms to determine which diet the measurement relates to.\n",
    "\n",
    "In this example you are given a measurement of 3% BMI_change. A Classification algorithm such as *K-nearest neighbor* (sklearn.neighbors.KNeighborsClassifier) in order to determine what diet was most likely. In this case, it would be necessary to use the KNN algorithm on bivariate data (by plotting Height by BMI_Change, for example).\n",
    "\n",
    "We will look more at this type of algorithm later."
   ]
  },
  {
   "cell_type": "markdown",
   "metadata": {},
   "source": [
    "***\n",
    "\n",
    "### 2. Regression\n",
    "\n",
    "Regression is the second Supervised Machine Learning problem that Sklearn addresses. Regression is the measure of the mean of one value, the output, and the corresponding value of the other values.\n",
    "\n",
    "Take for example the Powerproduction dataset. This data contains two features. The independent variable is 'speed' and the dependent variable is power.\n",
    "\n",
    "#### Regression Problem\n",
    "\n",
    "There is a desired to understand for each measure of Speed, what the corresponding Power measure will be.\n",
    "\n",
    "By carrying out Polynomial regression on this dataset, we can draw a 'line of best fit' through the data. This is a line that fits through the spread of data vectors, whereby, the combined distance from each point to the line is at it's lowest. This is known as calculating the cost of the line.\n",
    "\n",
    "Below, a mapping function containing SciPy's curve_fit() function shows the desired effect of Regression. This is for demonstration purposes only, as can be seen in the line between the measure of 'Speed' of 7 and 10, the line does not fit very well in this area. The regression that will take place later in this project will use trained data and will be more accurate."
   ]
  },
  {
   "cell_type": "code",
   "execution_count": 43,
   "metadata": {},
   "outputs": [],
   "source": [
    "df = pd.read_csv(\"powerproduction.txt\")"
   ]
  },
  {
   "cell_type": "code",
   "execution_count": 45,
   "metadata": {},
   "outputs": [],
   "source": [
    "from scipy.optimize import curve_fit\n"
   ]
  },
  {
   "cell_type": "code",
   "execution_count": 46,
   "metadata": {},
   "outputs": [
    {
     "data": {
      "image/png": "[encoded data removed]",
      "text/plain": [
       "<Figure size 432x288 with 1 Axes>"
      ]
     },
     "metadata": {
      "needs_background": "light"
     },
     "output_type": "display_data"
    }
   ],
   "source": [
    "# define the basis function\n",
    "def basis(x, a, b, c):\n",
    "    return a * np.power(x, 7) + b * x**2 + c\n",
    "\n",
    "# choose the input and output variables\n",
    "x, y = df[\"speed\"], df[\"power\"]\n",
    "# curve fit\n",
    "exponents, _ = curve_fit(basis, x, y)\n",
    "# summarize the parameter values\n",
    "a, b, c = exponents\n",
    "\n",
    "# plot inputs and outputs\n",
    "plt.scatter(x, y, alpha=0.5)\n",
    "\n",
    "# Use np.arange to inputs from smallest vector to largest\n",
    "x_array = np.arange(min(x), max(x), 1)\n",
    "# calculate the output for the range\n",
    "y_array = basis(x_array, a, b, c)\n",
    "# create a line plot for the mapping function\n",
    "plt.plot(x_array, y_array, color='red')\n",
    "plt.title(\"Polynomial Regression Function on Full Dataset\")\n",
    "plt.xlabel(\"Speed\")\n",
    "plt.ylabel(\"Power\")\n",
    "\n",
    "plt.show()"
   ]
  },
  {
   "cell_type": "markdown",
   "metadata": {},
   "source": [
    "***\n",
    "\n",
    "### Clustering\n",
    "\n"
   ]
  },
  {
   "cell_type": "markdown",
   "metadata": {},
   "source": [
    "\n",
    "#### Classification\n",
    "Identifying which category an object belongs to\n",
    "E.g. Spam detection\n",
    "\n",
    "#### Regression\n",
    "Predicting an attribute associated with an object\n",
    "E.g. Stock prices prediction - what is a stock going to be worth tomorrow?\n",
    "E.g. weather\n",
    "\n",
    "#### Clustering\n",
    "Taking an automatic grouping of similar objects into sets\n",
    "E.g. Customer segmentation\n",
    "\n",
    "#### Model Selection\n",
    "Comparing, validating and choosing parameters and models.\n",
    "E.g. Imporving model accuracy via parameter tuning\n",
    "\n",
    "#### Dimesionality Reduction\n",
    "Reducing the number of random variables to consifer\n",
    "E.g. To increase model efficiency\n",
    "\n",
    "#### Pre-processing\n",
    "Feature extraction and normalisation\n",
    "E.g. Transforming input data such as text for use in machine learning algorithms"
   ]
  },
  {
   "cell_type": "markdown",
   "metadata": {},
   "source": []
  },
  {
   "cell_type": "markdown",
   "metadata": {},
   "source": [
    "SciKit learn works on NUmpy arrays - homogenous arrays - have one datatype - different from DataFrames\n",
    "\n",
    "We assume that our input data is a matrix where Each row corresponds to one sample and each column corresponds to one feature\n",
    "\n",
    "In classification or regression, outputs or labels - different objects one for data and one for targets\n",
    "\n",
    "Most of the algorithms in sklearn assume that everything is a float - by default none of these work with categorical variables or missing values - this must be kept in mind\n",
    "\n",
    "### Supervised Machine Learning\n",
    "\n",
    "#### Machine learning pipeline:\n",
    "\n",
    "INSERT Supervised Machine Learning Image::\n",
    "\n",
    "clf = RandomForestClassifier()\n",
    "\n",
    "The above is an example is an object that encapsulates the algorithm for building the model and for making predictions - it will also store all the model parameters/\n",
    "\n",
    "If you call clf.fit() - this will build the model and store all the trees and the splits of the trees, from the RandomForestClassifier.\n",
    "\n",
    "All models have this fit() function and looks the same way - always get the training data (x_train), and if it's a supervised algorithm it also gets the outputs, y_train.\n",
    "\n",
    "If you apply the new data, you use clf.predict() on the object - you can use any new data you have, and it will return the predicions according to the model.\n",
    "\n",
    "There is also the score() function, which is a helper function that has both the prediction and it evaluates against some known truths - to provide information on the accuracy of the model.\n",
    "\n",
    "This is the most common interface for Sklearn and all models for regression and classification will follow it.\n",
    "\n",
    "Fit() and Predict() are the core methods, used on the object, clf.**\n",
    "\n",
    "### Unsupervised Learning\n",
    "\n",
    "This is another interface in SKlearn, in unsupervised learning and preprocessing, where somebody gives you a trained dataset and you want to do a principle component analysis (PCA_.\n",
    "\n",
    "You have training data, you have no labels or known truths - you just have your matrix, 'x' and you build your model from this.\n",
    "\n",
    "Then when you get new data, or have your test data - you want to apply this model and it will give you a new view of the data.\n",
    "\n",
    "For example,a 'projection' onto the principle components. THis is a different task and it has a different interface...\n",
    "\n",
    "pca = PCA()\n",
    "\n",
    "pca.fit(X_train)\n",
    "\n",
    "X_new = pca.transform(X_Test)\n",
    "\n",
    "Everything is encapsulated as an object - we instantiate the pca object - we call fit() again, give it the training data, x, because it is an unsupervalised method. \n",
    "\n",
    "If we then want to project to the principle components, we use the transform() method on any data, this will give you the new view of the data.\n"
   ]
  },
  {
   "cell_type": "markdown",
   "metadata": {},
   "source": [
    "***\n",
    "\n",
    "## Basic API of Unsupervised Learning\n",
    "\n",
    "<br>"
   ]
  },
  {
   "cell_type": "markdown",
   "metadata": {},
   "source": [
    "| &nbsp;&nbsp;&nbsp;&nbsp;&nbsp;&nbsp;&nbsp;&nbsp;&nbsp;&nbsp;&nbsp;&nbsp;&nbsp;&nbsp;&nbsp;&nbsp;&nbsp;&nbsp;&nbsp;&nbsp;&nbsp;&nbsp;&nbsp;&nbsp;&nbsp;&nbsp;&nbsp;&nbsp;&nbsp;&nbsp;&nbsp;&nbsp;&nbsp;&nbsp;&nbsp;&nbsp;&nbsp;&nbsp;&nbsp;&nbsp;&nbsp;&nbsp;&nbsp;&nbsp;&nbsp;&nbsp;&nbsp;&nbsp;&nbsp;&nbsp;&nbsp;&nbsp;&nbsp;estimator.fit(X, [y]) &nbsp;&nbsp;&nbsp;&nbsp;&nbsp;&nbsp;&nbsp;&nbsp;&nbsp;&nbsp;&nbsp;&nbsp;&nbsp;&nbsp;&nbsp;| &nbsp;&nbsp;&nbsp;&nbsp;&nbsp;&nbsp; &nbsp;&nbsp;&nbsp;&nbsp;&nbsp;&nbsp;&nbsp; | \n",
    "| :---| :--- | \n",
    "| **estimator.predict()** | **estimator.transform** | \n",
    "|  Classification | Presprocessing   | \n",
    "| Regression  | Dimensionality Reduction | \n",
    "| Clustering |Feature selection |    \n",
    "|    | Feature extraction   |   \n",
    "|   | \t   |\n",
    "| |  | "
   ]
  },
  {
   "cell_type": "markdown",
   "metadata": {},
   "source": [
    "In the table above - estimators is a term for the model. It can refer to anything: like a classifier (e.g. RandomForest()) or a scaling method (e.g. StandardScaler()).\n",
    "\n",
    "When using the predict() method to make a prediction, estimators always take the data, 'x', and if it's a supervised mathod, it takes a target output, 'y'.\n",
    "\n",
    "We use the transform() method when you need a new view. For classification, regression or clustering, you use the transfer() method and if you want a new view, you use the transfer method on 'x' (new data). THis is used for preprocessing, dimensionality reduction, feature selection and feature extraction.\n",
    "\n",
    "This covers our two building blocks for unsupervised learning - transforming your data and making predictions."
   ]
  },
  {
   "cell_type": "markdown",
   "metadata": {},
   "source": [
    "***\n",
    "\n",
    "## Model Evaluation and Selection\n",
    "\n",
    "<br>"
   ]
  },
  {
   "cell_type": "markdown",
   "metadata": {},
   "source": [
    "There are a number of concepts to grasp within model selection and evaluation. Sklearn uses a number of methods to carry out these two processes.\n",
    "\n",
    "#### Two Examples:\n",
    "\n",
    "##### train_test_split\n",
    "When using train_test_splt - you use cross-validation. This is where you use 5 folds (5 splits) and this gives you a more robust estimate on the generalisation performance of your model.\n",
    "\n",
    "##### cross_val_score\n",
    "You can use cross_val_score() function to get an object, data and labels and input how much cross validation to use (3 fold, five fold etc). This function will return the scores on the 'holdut' set for each evaluation. For 5 folds, you will get 5 scores. You can then calculate the mean of the 5 scores.\n",
    "\n",
    "Iyt is important to remember that all models have parameters, and that you need to tune them. You take data, do train_test_split, you cross evaluate on the training data, in order to tune the parameters. You can then do a final evaluation of your test data. This gives you an unbiased evaluation of the generalisation performance.\n",
    "\n",
    "Just doing cross-validation to tune parameters, your estimate may be too 'optimistic'.\n",
    "\n",
    "##### Cross-validation Grid Search\n",
    "from sklearn.grid_search import GridSearchCV\n",
    "from sklearn.cross_validation import train_test_split\n",
    "\n",
    "X_train_X_test, y_train, y_test = train_test_split(X, y)\n",
    "\n",
    "params_grid = {'C':10, ** np.arange(-3, 3),\n",
    "                'gamma': 10, ** np.arange(-3,3)}\n",
    "grid = GridSearchCV(SVC(), param_grid=param_grid)\n",
    "grid.fit(X_train, y_train)\n",
    "grid.predict(X_test)\n",
    "grid.score(X_test, y_test)\n",
    "\n",
    "GridSearchCV implements GridSearch with cross-validation\n",
    "                \n",
    "\n",
    "\n",
    "\n",
    "\n"
   ]
  },
  {
   "cell_type": "markdown",
   "metadata": {},
   "source": [
    "Sklearn doesn't automatically do any preprocessing because you won't have control over how to preprocess. Such as how to encode variables or how to compute data.\n",
    "\n",
    "More often than not, before you build your model from the training labels and training data, you are taking extra steps in between such as feature extraction, scaling and feature selection - when these steps have been implemented, they are included in the model.\n",
    "\n",
    "Cross-validation should happen on the whole processing pipeline, from feature extraction to feature selection"
   ]
  },
  {
   "cell_type": "markdown",
   "metadata": {},
   "source": [
    "<img src=\"https://www.kdnuggets.com/wp-content/uploads/train_test_split.jpg\" style=\"width: 450px;\">"
   ]
  },
  {
   "cell_type": "markdown",
   "metadata": {},
   "source": []
  },
  {
   "cell_type": "markdown",
   "metadata": {},
   "source": []
  },
  {
   "cell_type": "markdown",
   "metadata": {},
   "source": [
    "##### Pipelines\n",
    "\n",
    "Similar to cross-validation, pipelines are a way to chain together transformations with the classifier. Making a Pipeline returns an object that is an estimator with the same interface as the other models.\n",
    "\n",
    "The pipeline therefore, looks like a model - except it includes some transformations with a classifier.\n",
    "\n",
    "Take for example, a pipeline that includes two transformations and one classifier. When .fit() is called on this model, it will transform using the first transformation, then fit the second transformation and then transform using the second transformation - it will then pass the transformed data onto the classifier.\n",
    "\n",
    "Using a preprocessing pipeline like this, will make it much more likely that you are not leaking information from your test set or that you're taking different actions on the test and training data. The pipeline encapsulates the data and standardises the processing of the data.\n",
    "\n",
    "Take scaling for example, the StandardScaler() function can be used inside"
   ]
  },
  {
   "cell_type": "markdown",
   "metadata": {},
   "source": [
    "## What is Sklearn"
   ]
  },
  {
   "cell_type": "markdown",
   "metadata": {},
   "source": [
    "Sklearn is a simple and efficient tool for data mining and analysis.\n",
    "\n",
    "It is built on Numpy, SciPy and Matplotlib.\n",
    "\n",
    "It is an open source and commercially usable package.\n",
    "\n",
    "### What can we achieve using it?\n",
    "\n",
    "#### Classification\n",
    "Identifying which category an object belongs to\n",
    "E.g. Spam detection\n",
    "\n",
    "#### Regression\n",
    "Predicting an attribute associated with an object\n",
    "E.g. Stock prices prediction - what is a stock going to be worth tomorrow?\n",
    "E.g. weather\n",
    "\n",
    "#### Clustering\n",
    "Taking an automatic grouping of similar objects into sets\n",
    "E.g. Customer segmentation\n",
    "\n",
    "#### Model Selection\n",
    "Comparing, validating and choosing parameters and models.\n",
    "E.g. Imporving model accuracy via parameter tuning\n",
    "\n",
    "#### Dimesionality Reduction\n",
    "Reducing the number of random variables to consifer\n",
    "E.g. To increase model efficiency\n",
    "\n",
    "#### Pre-processing\n",
    "Feature extraction and normalisation\n",
    "E.g. Transforming input data such as text for use in machine learning algorithms\n",
    "\n"
   ]
  },
  {
   "cell_type": "code",
   "execution_count": null,
   "metadata": {},
   "outputs": [],
   "source": []
  },
  {
   "cell_type": "code",
   "execution_count": null,
   "metadata": {},
   "outputs": [],
   "source": []
  },
  {
   "cell_type": "code",
   "execution_count": null,
   "metadata": {},
   "outputs": [],
   "source": []
  },
  {
   "cell_type": "code",
   "execution_count": null,
   "metadata": {},
   "outputs": [],
   "source": []
  },
  {
   "cell_type": "code",
   "execution_count": null,
   "metadata": {},
   "outputs": [],
   "source": []
  },
  {
   "cell_type": "markdown",
   "metadata": {},
   "source": [
    "|  | Data Used |Coef. |R²| Std.Err.*(x1)* | p-value*(x1)*  | t-value*(x1)*    | H0 Rejected |    | \n",
    "| :---| :--- | :--- | :--- | :--- | :--- | :--- | :--- | :--- |\n",
    "| **Simple Linear Regression**   |   |    |    |    |    |   |    |      |\n",
    "|  *polyfit() Method* |Full Data | [4.917, -13.899] | 72.9%| ✘| ✘|✘ |✘  | \n",
    "| *Sklearn Model*  | Train/Test | 4.866 |   74.6% |0.055  |0.00 |19.128| ✔| \n",
    "|  | |    |    |   |   |    |    |   |  \n",
    "|  **Polynomial Regression**   |    |    |    |   |   |    |    |   |  \n",
    "| *curve_fit() Method*  | Full Data\t   |[-0.0, 0.367. -6.771]  |91.1% |✘   |✘   | ✘   | ✘| \n",
    "| *Sklearn Model* |  Train Test | [-13.332,   1.937,  -0.053] | 88.1% | 0.019  | 0.00  |52.499   | ✔| "
   ]
  },
  {
   "cell_type": "code",
   "execution_count": null,
   "metadata": {},
   "outputs": [],
   "source": []
  }
 ],
 "metadata": {
  "kernelspec": {
   "display_name": "Python 3",
   "language": "python",
   "name": "python3"
  },
  "language_info": {
   "codemirror_mode": {
    "name": "ipython",
    "version": 3
   },
   "file_extension": ".py",
   "mimetype": "text/x-python",
   "name": "python",
   "nbconvert_exporter": "python",
   "pygments_lexer": "ipython3",
   "version": "3.8.3"
  }
 },
 "nbformat": 4,
 "nbformat_minor": 4
}
